{
  "nbformat": 4,
  "nbformat_minor": 0,
  "metadata": {
    "colab": {
      "provenance": []
    },
    "kernelspec": {
      "name": "python3",
      "display_name": "Python 3"
    },
    "language_info": {
      "name": "python"
    }
  },
  "cells": [
    {
      "cell_type": "code",
      "execution_count": null,
      "metadata": {
        "colab": {
          "base_uri": "https://localhost:8080/"
        },
        "id": "BWpoAzoPf8fb",
        "outputId": "0e19abd6-e346-49fa-e635-ff74b0b85cf8"
      },
      "outputs": [
        {
          "output_type": "stream",
          "name": "stdout",
          "text": [
            "Requirement already satisfied: textblob in /usr/local/lib/python3.11/dist-packages (0.19.0)\n",
            "Requirement already satisfied: nltk>=3.9 in /usr/local/lib/python3.11/dist-packages (from textblob) (3.9.1)\n",
            "Requirement already satisfied: click in /usr/local/lib/python3.11/dist-packages (from nltk>=3.9->textblob) (8.1.8)\n",
            "Requirement already satisfied: joblib in /usr/local/lib/python3.11/dist-packages (from nltk>=3.9->textblob) (1.4.2)\n",
            "Requirement already satisfied: regex>=2021.8.3 in /usr/local/lib/python3.11/dist-packages (from nltk>=3.9->textblob) (2024.11.6)\n",
            "Requirement already satisfied: tqdm in /usr/local/lib/python3.11/dist-packages (from nltk>=3.9->textblob) (4.67.1)\n"
          ]
        }
      ],
      "source": [
        "!pip install textblob\n",
        "from textblob import TextBlob"
      ]
    },
    {
      "cell_type": "code",
      "source": [
        "# Step 1: Take input from user\n",
        "text = input(\"How are you feeling today? \")\n",
        "\n",
        "# Step 2: Use TextBlob to analyze sentiment\n",
        "from textblob import TextBlob\n",
        "blob = TextBlob(text)\n",
        "\n",
        "# Step 3: Get sentiment polarity score\n",
        "sentiment = blob.sentiment.polarity\n",
        "\n",
        "# Step 4: Print mood based on score`\n",
        "if sentiment > 0:\n",
        "    print(\"Detected Emotion: Positive 😊\")\n",
        "    emotion = \"happy\"\n",
        "elif sentiment < 0:\n",
        "    print(\"Detected Emotion: Negative 😞\")\n",
        "    emotion = \"sad\"\n",
        "else:\n",
        "    print(\"Detected Emotion: Neutral 😐\")\n",
        "    emotion = \"neutral\"\n",
        "\n",
        "    print(f\"Detected Emotion: {emotion.capitalize()} 😊\")\n"
      ],
      "metadata": {
        "colab": {
          "base_uri": "https://localhost:8080/"
        },
        "id": "Yzq7FGkDhGqT",
        "outputId": "fff218da-f9ca-4f0f-817c-1640871b2218"
      },
      "execution_count": null,
      "outputs": [
        {
          "output_type": "stream",
          "name": "stdout",
          "text": [
            "How are you feeling today? fine\n",
            "Detected Emotion: Positive 😊\n"
          ]
        }
      ]
    },
    {
      "cell_type": "code",
      "source": [
        "import zipfile\n",
        "import os\n",
        "import random\n",
        "from IPython.display import Image, display\n",
        "\n",
        "# Use uploaded zip file name (same as emotion)\n",
        "zip_path = f\"/content/{emotion}_images.zip\"\n",
        "zip_path = f\"/content/{emotion}_images.zip\"\n",
        "zip_path = f\"/content/{emotion}_images.zip\"\n",
        "extract_folder = f\"{emotion}_images\"\n",
        "print(\"Files in folder:\", os.listdir(extract_folder))\n",
        "\n",
        "\n",
        "# Extract zip file\n",
        "with zipfile.ZipFile(zip_path, 'r') as zip_ref:\n",
        "    zip_ref.extractall(extract_folder)\n",
        "\n",
        "# Show a random image from the extracted folder\n",
        "valid_extensions = ('.jpg', '.jpeg', '.png', '.JPG', '.JPEG', '.PNG')\n",
        "images = [img for img in os.listdir(extract_folder) if img.lower().endswith(valid_extensions)]\n",
        "\n",
        "# Recursively collect valid images from all subfolders\n",
        "images = []\n",
        "for root, dirs, files in os.walk(extract_folder):\n",
        "    for file in files:\n",
        "        if file.lower().endswith(valid_extensions):\n",
        "            images.append(os.path.join(root, file))\n",
        "\n",
        "\n",
        "if images:\n",
        "    selected_image = random.choice(images)\n",
        "    display(Image(selected_image))\n",
        "else:\n",
        "    print(\"No valid images found in the folder.\")\n"
      ],
      "metadata": {
        "colab": {
          "base_uri": "https://localhost:8080/",
          "height": 194
        },
        "id": "6JspHkRHiU6B",
        "outputId": "d0e2c267-1efa-4057-d737-b0059e2f359a"
      },
      "execution_count": null,
      "outputs": [
        {
          "output_type": "stream",
          "name": "stdout",
          "text": [
            "Files in folder: ['happy_images']\n"
          ]
        },
        {
          "output_type": "display_data",
          "data": {
            "image/jpeg": "[encoded data removed]",
            "text/plain": [
              "<IPython.core.display.Image object>"
            ]
          },
          "metadata": {}
        }
      ]
    },
    {
      "cell_type": "code",
      "source": [
        "# Friendly responses dictionary\n",
        "friend_talk = {\n",
        "    \"happy\": [\n",
        "        \"You're glowing today! Keep spreading those smiles! 😄\",\n",
        "        \"Happiness suits you! Let's dance it out 🕺💃\"\n",
        "    ],\n",
        "    \"sad\": [\n",
        "        \"I’m here for you. Everything will be okay soon 🤗\",\n",
        "        \"Sending you a virtual hug 🤍 You’re not alone.\"\n",
        "    ],\n",
        "    \"neutral\": [\n",
        "        \"Just take a breath and relax. Life's not a race 🧘\",\n",
        "        \"Let’s take it slow today. Small steps count too. 🌿\"\n",
        "    ]\n",
        "}\n",
        "\n",
        "# Friendly message output\n",
        "import random\n",
        "if emotion in friend_talk:\n",
        "    message = random.choice(friend_talk[emotion])\n",
        "    print(f\"\\n🧑‍🤝‍🧑 Your AI Buddy says: {message}\")\n",
        "else:\n",
        "    print(\"\\n🧑‍🤝‍🧑 Your AI Buddy says: You're doing great, buddy!\")\n"
      ],
      "metadata": {
        "colab": {
          "base_uri": "https://localhost:8080/"
        },
        "id": "M94aByn_NlII",
        "outputId": "f55e1566-5f7f-4564-fb51-a9fac4debdd8"
      },
      "execution_count": null,
      "outputs": [
        {
          "output_type": "stream",
          "name": "stdout",
          "text": [
            "\n",
            "🧑‍🤝‍🧑 Your AI Buddy says: You're glowing today! Keep spreading those smiles! 😄\n"
          ]
        }
      ]
    }
  ]
}